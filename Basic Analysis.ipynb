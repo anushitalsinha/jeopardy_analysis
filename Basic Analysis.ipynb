{
 "cells": [
  {
   "cell_type": "code",
   "execution_count": 1,
   "metadata": {
    "collapsed": false
   },
   "outputs": [
    {
     "name": "stdout",
     "output_type": "stream",
     "text": [
      "   Show Number    Air Date      Round                         Category  Value  \\\n",
      "0         4680  2004-12-31  Jeopardy!                          HISTORY   $200   \n",
      "1         4680  2004-12-31  Jeopardy!  ESPN's TOP 10 ALL-TIME ATHLETES   $200   \n",
      "2         4680  2004-12-31  Jeopardy!      EVERYBODY TALKS ABOUT IT...   $200   \n",
      "3         4680  2004-12-31  Jeopardy!                 THE COMPANY LINE   $200   \n",
      "4         4680  2004-12-31  Jeopardy!              EPITAPHS & TRIBUTES   $200   \n",
      "\n",
      "                                            Question      Answer  \n",
      "0  For the last 8 years of his life, Galileo was ...  Copernicus  \n",
      "1  No. 2: 1912 Olympian; football star at Carlisl...  Jim Thorpe  \n",
      "2  The city of Yuma in this state has a record av...     Arizona  \n",
      "3  In 1963, live on \"The Art Linkletter Show\", th...  McDonald's  \n",
      "4  Signer of the Dec. of Indep., framer of the Co...  John Adams  \n"
     ]
    }
   ],
   "source": [
    "import pandas as pd\n",
    "jeopardy = pd.read_csv(\"jeopardy.csv\")\n",
    "print(jeopardy.head())"
   ]
  },
  {
   "cell_type": "code",
   "execution_count": 2,
   "metadata": {
    "collapsed": false
   },
   "outputs": [
    {
     "data": {
      "text/plain": [
       "Index(['Show Number', ' Air Date', ' Round', ' Category', ' Value',\n",
       "       ' Question', ' Answer'],\n",
       "      dtype='object')"
      ]
     },
     "execution_count": 2,
     "metadata": {},
     "output_type": "execute_result"
    }
   ],
   "source": [
    "jeopardy.columns"
   ]
  },
  {
   "cell_type": "code",
   "execution_count": 3,
   "metadata": {
    "collapsed": true
   },
   "outputs": [],
   "source": [
    "jeopardy.columns = ['Show Number', ' Air Date', ' Round', ' Category', ' Value',\n",
    "       ' Question', ' Answer']"
   ]
  },
  {
   "cell_type": "code",
   "execution_count": 4,
   "metadata": {
    "collapsed": false
   },
   "outputs": [
    {
     "data": {
      "text/plain": [
       "Index(['Show Number', ' Air Date', ' Round', ' Category', ' Value',\n",
       "       ' Question', ' Answer'],\n",
       "      dtype='object')"
      ]
     },
     "execution_count": 4,
     "metadata": {},
     "output_type": "execute_result"
    }
   ],
   "source": [
    "jeopardy.columns"
   ]
  },
  {
   "cell_type": "code",
   "execution_count": 5,
   "metadata": {
    "collapsed": true
   },
   "outputs": [],
   "source": [
    "# Normalize the question and answer columns\n",
    "import re\n",
    "def normalize_text(text):\n",
    "    text = text.lower()\n",
    "    #use regex to remove all punctuation\n",
    "    text_no_punc = re.sub(\"[^A-Za-z0-9]\",\" \",text)\n",
    "    return text_no_punc"
   ]
  },
  {
   "cell_type": "code",
   "execution_count": 6,
   "metadata": {
    "collapsed": false
   },
   "outputs": [
    {
     "name": "stdout",
     "output_type": "stream",
     "text": [
      "0    copernicus\n",
      "1    jim thorpe\n",
      "2       arizona\n",
      "3    mcdonald s\n",
      "4    john adams\n",
      "Name: clean_answer, dtype: object\n",
      "0    for the last 8 years of his life  galileo was ...\n",
      "1    no  2  1912 olympian  football star at carlisl...\n",
      "2    the city of yuma in this state has a record av...\n",
      "3    in 1963  live on  the art linkletter show   th...\n",
      "4    signer of the dec  of indep   framer of the co...\n",
      "Name: clean_question, dtype: object\n"
     ]
    },
    {
     "data": {
      "text/html": [
       "<div>\n",
       "<table border=\"1\" class=\"dataframe\">\n",
       "  <thead>\n",
       "    <tr style=\"text-align: right;\">\n",
       "      <th></th>\n",
       "      <th>Show Number</th>\n",
       "      <th>Air Date</th>\n",
       "      <th>Round</th>\n",
       "      <th>Category</th>\n",
       "      <th>Value</th>\n",
       "      <th>Question</th>\n",
       "      <th>Answer</th>\n",
       "      <th>clean_question</th>\n",
       "      <th>clean_answer</th>\n",
       "    </tr>\n",
       "  </thead>\n",
       "  <tbody>\n",
       "    <tr>\n",
       "      <th>0</th>\n",
       "      <td>4680</td>\n",
       "      <td>2004-12-31</td>\n",
       "      <td>Jeopardy!</td>\n",
       "      <td>HISTORY</td>\n",
       "      <td>$200</td>\n",
       "      <td>For the last 8 years of his life, Galileo was ...</td>\n",
       "      <td>Copernicus</td>\n",
       "      <td>for the last 8 years of his life  galileo was ...</td>\n",
       "      <td>copernicus</td>\n",
       "    </tr>\n",
       "    <tr>\n",
       "      <th>1</th>\n",
       "      <td>4680</td>\n",
       "      <td>2004-12-31</td>\n",
       "      <td>Jeopardy!</td>\n",
       "      <td>ESPN's TOP 10 ALL-TIME ATHLETES</td>\n",
       "      <td>$200</td>\n",
       "      <td>No. 2: 1912 Olympian; football star at Carlisl...</td>\n",
       "      <td>Jim Thorpe</td>\n",
       "      <td>no  2  1912 olympian  football star at carlisl...</td>\n",
       "      <td>jim thorpe</td>\n",
       "    </tr>\n",
       "    <tr>\n",
       "      <th>2</th>\n",
       "      <td>4680</td>\n",
       "      <td>2004-12-31</td>\n",
       "      <td>Jeopardy!</td>\n",
       "      <td>EVERYBODY TALKS ABOUT IT...</td>\n",
       "      <td>$200</td>\n",
       "      <td>The city of Yuma in this state has a record av...</td>\n",
       "      <td>Arizona</td>\n",
       "      <td>the city of yuma in this state has a record av...</td>\n",
       "      <td>arizona</td>\n",
       "    </tr>\n",
       "    <tr>\n",
       "      <th>3</th>\n",
       "      <td>4680</td>\n",
       "      <td>2004-12-31</td>\n",
       "      <td>Jeopardy!</td>\n",
       "      <td>THE COMPANY LINE</td>\n",
       "      <td>$200</td>\n",
       "      <td>In 1963, live on \"The Art Linkletter Show\", th...</td>\n",
       "      <td>McDonald's</td>\n",
       "      <td>in 1963  live on  the art linkletter show   th...</td>\n",
       "      <td>mcdonald s</td>\n",
       "    </tr>\n",
       "    <tr>\n",
       "      <th>4</th>\n",
       "      <td>4680</td>\n",
       "      <td>2004-12-31</td>\n",
       "      <td>Jeopardy!</td>\n",
       "      <td>EPITAPHS &amp; TRIBUTES</td>\n",
       "      <td>$200</td>\n",
       "      <td>Signer of the Dec. of Indep., framer of the Co...</td>\n",
       "      <td>John Adams</td>\n",
       "      <td>signer of the dec  of indep   framer of the co...</td>\n",
       "      <td>john adams</td>\n",
       "    </tr>\n",
       "  </tbody>\n",
       "</table>\n",
       "</div>"
      ],
      "text/plain": [
       "   Show Number    Air Date      Round                         Category  Value  \\\n",
       "0         4680  2004-12-31  Jeopardy!                          HISTORY   $200   \n",
       "1         4680  2004-12-31  Jeopardy!  ESPN's TOP 10 ALL-TIME ATHLETES   $200   \n",
       "2         4680  2004-12-31  Jeopardy!      EVERYBODY TALKS ABOUT IT...   $200   \n",
       "3         4680  2004-12-31  Jeopardy!                 THE COMPANY LINE   $200   \n",
       "4         4680  2004-12-31  Jeopardy!              EPITAPHS & TRIBUTES   $200   \n",
       "\n",
       "                                            Question      Answer  \\\n",
       "0  For the last 8 years of his life, Galileo was ...  Copernicus   \n",
       "1  No. 2: 1912 Olympian; football star at Carlisl...  Jim Thorpe   \n",
       "2  The city of Yuma in this state has a record av...     Arizona   \n",
       "3  In 1963, live on \"The Art Linkletter Show\", th...  McDonald's   \n",
       "4  Signer of the Dec. of Indep., framer of the Co...  John Adams   \n",
       "\n",
       "                                      clean_question clean_answer  \n",
       "0  for the last 8 years of his life  galileo was ...   copernicus  \n",
       "1  no  2  1912 olympian  football star at carlisl...   jim thorpe  \n",
       "2  the city of yuma in this state has a record av...      arizona  \n",
       "3  in 1963  live on  the art linkletter show   th...   mcdonald s  \n",
       "4  signer of the dec  of indep   framer of the co...   john adams  "
      ]
     },
     "execution_count": 6,
     "metadata": {},
     "output_type": "execute_result"
    }
   ],
   "source": [
    "jeopardy[\"clean_question\"] = jeopardy[\" Question\"].apply(normalize_text)\n",
    "jeopardy[\"clean_answer\"] = jeopardy[\" Answer\"].apply(normalize_text)\n",
    "print(jeopardy[\"clean_answer\"].head())\n",
    "print(jeopardy[\"clean_question\"].head())\n",
    "jeopardy.head()"
   ]
  },
  {
   "cell_type": "code",
   "execution_count": 7,
   "metadata": {
    "collapsed": false
   },
   "outputs": [
    {
     "name": "stdout",
     "output_type": "stream",
     "text": [
      "0    $200\n",
      "1    $200\n",
      "2    $200\n",
      "3    $200\n",
      "4    $200\n",
      "Name:  Value, dtype: object\n"
     ]
    }
   ],
   "source": [
    "print(jeopardy[\" Value\"].head())"
   ]
  },
  {
   "cell_type": "code",
   "execution_count": 8,
   "metadata": {
    "collapsed": false
   },
   "outputs": [],
   "source": [
    "#Remove $ from value column and convert all the vaues to int\n",
    "import re\n",
    "def normalize_value(text):\n",
    "    clean_text = re.sub(\"[^A-Za-z0-9]\",\" \",text)\n",
    "    try:\n",
    "        int_text = int(clean_text)\n",
    "    except Exception:\n",
    "        int_text = 0\n",
    "    return int_text\n"
   ]
  },
  {
   "cell_type": "code",
   "execution_count": 9,
   "metadata": {
    "collapsed": false
   },
   "outputs": [
    {
     "name": "stdout",
     "output_type": "stream",
     "text": [
      "0    200\n",
      "1    200\n",
      "2    200\n",
      "3    200\n",
      "4    200\n",
      "Name: clean_value, dtype: int64\n"
     ]
    }
   ],
   "source": [
    "\n",
    "jeopardy[\"clean_value\"]= jeopardy[\" Value\"].apply(normalize_value)\n",
    "print(jeopardy[\"clean_value\"].head())\n"
   ]
  },
  {
   "cell_type": "code",
   "execution_count": 10,
   "metadata": {
    "collapsed": false
   },
   "outputs": [
    {
     "name": "stdout",
     "output_type": "stream",
     "text": [
      "2004-12-31 00:00:00\n",
      "2004-12-31 12:00:00\n"
     ]
    }
   ],
   "source": [
    "# print(jeopardy[\" Air Date\"].head())\n",
    "#Convert the Air Date column to a datetime column using pandas.to_datetime\n",
    "import pandas as pd\n",
    "import numpy as np\n",
    "a = pd.to_datetime(jeopardy[\" Air Date\"])\n",
    "print(a[0])\n",
    "print(a[0]+ np.timedelta64(12, 'h'))"
   ]
  },
  {
   "cell_type": "code",
   "execution_count": 11,
   "metadata": {
    "collapsed": false
   },
   "outputs": [
    {
     "name": "stdout",
     "output_type": "stream",
     "text": [
      "0                                               copernicus\n",
      "1                                               jim thorpe\n",
      "2                                                  arizona\n",
      "3                                               mcdonald s\n",
      "4                                               john adams\n",
      "5                                                  the ant\n",
      "6                                           the appian way\n",
      "7                                           michael jordan\n",
      "8                                               washington\n",
      "9                                           crate   barrel\n",
      "10                                          jackie gleason\n",
      "11                                                 the cud\n",
      "12                                   ceylon  or sri lanka \n",
      "13                                               jim brown\n",
      "14                                            the uv index\n",
      "15                                                  bulova\n",
      "16                                             jesse james\n",
      "17                                                     imp\n",
      "18                                       the international\n",
      "19                                             lou  gehrig\n",
      "20                                                 morocco\n",
      "21                                            paul  bonwit\n",
      "22       hattie mcdaniel  for her role in gone with the...\n",
      "23                                                     era\n",
      "24                                      the congress party\n",
      "25                                       wilt  chamberlain\n",
      "26                                                      k2\n",
      "27                                             ethan allen\n",
      "28                                                     ply\n",
      "29                                                  horton\n",
      "                               ...                        \n",
      "19969                                        steam engines\n",
      "19970                                            petruchio\n",
      "19971                                  stanford university\n",
      "19972                                          emma watson\n",
      "19973                                                   bo\n",
      "19974                                   an antimatter bomb\n",
      "19975                                         the iroquois\n",
      "19976                                             pericles\n",
      "19977                                               tulane\n",
      "19978                                      kristen stewart\n",
      "19979                                                   fo\n",
      "19980                                           a conclave\n",
      "19981                                     open door policy\n",
      "19982                                               quince\n",
      "19983                                              berklee\n",
      "19984                                   michelle rodriguez\n",
      "19985                                                   ur\n",
      "19986                                              bernini\n",
      "19987                                                 atom\n",
      "19988                                  houston  lee brown \n",
      "19989                                          buddy holly\n",
      "19990                                         leif ericson\n",
      "19991                                           bill gates\n",
      "19992                                                 wool\n",
      "19993                                              hostess\n",
      "19994                                                   18\n",
      "19995                                               prince\n",
      "19996                                              galileo\n",
      "19997                                      monica lewinsky\n",
      "19998                                               camels\n",
      "Name: clean_answer, dtype: object\n"
     ]
    }
   ],
   "source": [
    "#jeopardy.ix[2]\n",
    "print(jeopardy[\"clean_answer\"])"
   ]
  },
  {
   "cell_type": "code",
   "execution_count": 12,
   "metadata": {
    "collapsed": false
   },
   "outputs": [],
   "source": [
    "#function which looks for the same words repeated in questions\n",
    "#and answers\n",
    "def count_matches(row):\n",
    "    split_answer = row[\"clean_answer\"].split(\" \")\n",
    "    split_question = row[\"clean_question\"].split(\" \")\n",
    "    if \"the\" in split_answer:\n",
    "        split_answer.remove(\"the\")\n",
    "    if len(split_answer)==0:\n",
    "        return 0\n",
    "    match_count = 0\n",
    "    for item in split_answer:\n",
    "        if item in split_question:\n",
    "            match_count += 1\n",
    "    return(match_count/len(split_answer))\n",
    "\n"
   ]
  },
  {
   "cell_type": "code",
   "execution_count": 13,
   "metadata": {
    "collapsed": false
   },
   "outputs": [
    {
     "name": "stdout",
     "output_type": "stream",
     "text": [
      "0.0961144775685\n"
     ]
    }
   ],
   "source": [
    "jeopardy[\"answer_in_question\"] = jeopardy.apply(count_matches,axis = 1)\n",
    "print(jeopardy[\"answer_in_question\"].mean())\n",
    "#print(jeopardy[\"answer_in_question\"])\n"
   ]
  },
  {
   "cell_type": "markdown",
   "metadata": {},
   "source": [
    "Terms in answers appear only 9.6% times in the question.So, it cant be deduced that by merely looking at the question,answer can be guessed."
   ]
  },
  {
   "cell_type": "code",
   "execution_count": 14,
   "metadata": {
    "collapsed": false
   },
   "outputs": [
    {
     "name": "stdout",
     "output_type": "stream",
     "text": [
      "<class 'pandas.core.series.Series'>\n",
      "<class 'pandas.core.series.Series'>\n",
      "<class 'pandas.core.series.Series'>\n",
      "<class 'pandas.core.series.Series'>\n",
      "<class 'pandas.core.series.Series'>\n",
      "<class 'pandas.core.series.Series'>\n",
      "<class 'pandas.core.series.Series'>\n",
      "set()\n"
     ]
    },
    {
     "name": "stderr",
     "output_type": "stream",
     "text": [
      "/dataquest/system/env/python3/lib/python3.4/site-packages/ipykernel/__main__.py:1: FutureWarning: sort(columns=....) is deprecated, use sort_values(by=.....)\n",
      "  if __name__ == '__main__':\n"
     ]
    }
   ],
   "source": [
    "jeopardy.sort(\" Air Date\",ascending = True)\n",
    "question_overlap = []\n",
    "terms_used = set()\n",
    "for idx,row in jeopardy.iterrows():\n",
    "    split_question = row[\"clean_question\"].split(\" \")\n",
    "    split_question = [x for x in row[\"clean_question\"] if len(x) > 5]\n",
    "    match_count = 0\n",
    "    for word in split_question:\n",
    "        if word in terms_used:\n",
    "            match_count += 1\n",
    "        for word in split_question:\n",
    "            terms_used.add(word)\n",
    "        if len(split_question) > 0:\n",
    "            match_count/ len(split_question)\n",
    "            \n",
    "    print(type(row))\n",
    "    if idx > 5:\n",
    "        break\n",
    "        \n",
    "print(terms_used)"
   ]
  },
  {
   "cell_type": "code",
   "execution_count": 15,
   "metadata": {
    "collapsed": false
   },
   "outputs": [
    {
     "data": {
      "text/plain": [
       "0.72735994608824506"
      ]
     },
     "execution_count": 15,
     "metadata": {},
     "output_type": "execute_result"
    }
   ],
   "source": [
    "question_overlap = []\n",
    "terms_used = set()\n",
    "for i, row in jeopardy.iterrows():\n",
    "        split_question = row[\"clean_question\"].split(\" \")\n",
    "        split_question = [q for q in split_question if len(q) > 5]\n",
    "        match_count = 0\n",
    "        for word in split_question:\n",
    "            if word in terms_used:\n",
    "                match_count += 1\n",
    "        for word in split_question:\n",
    "            terms_used.add(word)\n",
    "        if len(split_question) > 0:\n",
    "            match_count /= len(split_question)\n",
    "        question_overlap.append(match_count)\n",
    "jeopardy[\"question_overlap\"] = question_overlap\n",
    "\n",
    "jeopardy[\"question_overlap\"].mean()\n",
    "                \n",
    "\n",
    "                "
   ]
  },
  {
   "cell_type": "markdown",
   "metadata": {},
   "source": [
    "There is a 70% overlap between the terms in the new questions and old questions. It means it is worth looking into recycling of questions."
   ]
  },
  {
   "cell_type": "code",
   "execution_count": 16,
   "metadata": {
    "collapsed": false
   },
   "outputs": [
    {
     "name": "stdout",
     "output_type": "stream",
     "text": [
      "0    $200\n",
      "1    $200\n",
      "2    $200\n",
      "3    $200\n",
      "4    $200\n",
      "Name:  Value, dtype: object\n"
     ]
    }
   ],
   "source": [
    "print(jeopardy[\" Value\"].head())"
   ]
  },
  {
   "cell_type": "code",
   "execution_count": 17,
   "metadata": {
    "collapsed": false
   },
   "outputs": [
    {
     "name": "stdout",
     "output_type": "stream",
     "text": [
      "0     200\n",
      "1     200\n",
      "2     200\n",
      "3     200\n",
      "4     200\n",
      "5     200\n",
      "6     400\n",
      "7     400\n",
      "8     400\n",
      "9     400\n",
      "10    400\n",
      "11    400\n",
      "12    600\n",
      "13    600\n",
      "14    600\n",
      "15    600\n",
      "16    600\n",
      "17    600\n",
      "18    800\n",
      "19    800\n",
      "Name: clean_value, dtype: int64\n"
     ]
    }
   ],
   "source": [
    "print(jeopardy[\"clean_value\"].head(20))"
   ]
  },
  {
   "cell_type": "code",
   "execution_count": 24,
   "metadata": {
    "collapsed": false
   },
   "outputs": [
    {
     "name": "stdout",
     "output_type": "stream",
     "text": [
      "Index(['Show Number', ' Air Date', ' Round', ' Category', ' Value',\n",
      "       ' Question', ' Answer', 'clean_question', 'clean_answer', 'clean_value',\n",
      "       'answer_in_question', 'question_overlap', 'high_value'],\n",
      "      dtype='object')\n",
      "   Show Number    Air Date      Round                         Category  Value  \\\n",
      "0         4680  2004-12-31  Jeopardy!                          HISTORY   $200   \n",
      "1         4680  2004-12-31  Jeopardy!  ESPN's TOP 10 ALL-TIME ATHLETES   $200   \n",
      "2         4680  2004-12-31  Jeopardy!      EVERYBODY TALKS ABOUT IT...   $200   \n",
      "3         4680  2004-12-31  Jeopardy!                 THE COMPANY LINE   $200   \n",
      "4         4680  2004-12-31  Jeopardy!              EPITAPHS & TRIBUTES   $200   \n",
      "\n",
      "                                            Question      Answer  \\\n",
      "0  For the last 8 years of his life, Galileo was ...  Copernicus   \n",
      "1  No. 2: 1912 Olympian; football star at Carlisl...  Jim Thorpe   \n",
      "2  The city of Yuma in this state has a record av...     Arizona   \n",
      "3  In 1963, live on \"The Art Linkletter Show\", th...  McDonald's   \n",
      "4  Signer of the Dec. of Indep., framer of the Co...  John Adams   \n",
      "\n",
      "                                      clean_question clean_answer  \\\n",
      "0  for the last 8 years of his life  galileo was ...   copernicus   \n",
      "1  no  2  1912 olympian  football star at carlisl...   jim thorpe   \n",
      "2  the city of yuma in this state has a record av...      arizona   \n",
      "3  in 1963  live on  the art linkletter show   th...   mcdonald s   \n",
      "4  signer of the dec  of indep   framer of the co...   john adams   \n",
      "\n",
      "   clean_value  answer_in_question  question_overlap  high_value  \n",
      "0          200                 0.0               0.0           0  \n",
      "1          200                 0.0               0.0           0  \n",
      "2          200                 0.0               0.0           0  \n",
      "3          200                 0.0               0.0           0  \n",
      "4          200                 0.0               0.0           0  \n",
      "0     0\n",
      "1     0\n",
      "2     0\n",
      "3     0\n",
      "4     0\n",
      "5     0\n",
      "6     0\n",
      "7     0\n",
      "8     0\n",
      "9     0\n",
      "10    0\n",
      "11    0\n",
      "12    0\n",
      "13    0\n",
      "14    0\n",
      "15    0\n",
      "16    0\n",
      "17    0\n",
      "18    0\n",
      "19    0\n",
      "20    0\n",
      "21    0\n",
      "22    0\n",
      "23    0\n",
      "24    1\n",
      "25    1\n",
      "26    1\n",
      "27    1\n",
      "28    1\n",
      "29    0\n",
      "30    0\n",
      "31    0\n",
      "32    0\n",
      "33    0\n",
      "34    0\n",
      "35    0\n",
      "36    0\n",
      "37    0\n",
      "38    0\n",
      "39    0\n",
      "Name: high_value, dtype: int64\n"
     ]
    }
   ],
   "source": [
    "#The function categorizes the values as high_value if value is higher\n",
    "#than $800 and low_value if it's below $800\n",
    "def determine_value(row):\n",
    "    value = 0\n",
    "    if row[\"clean_value\"] > 800:\n",
    "        value = 1\n",
    "    else:\n",
    "        value = 0\n",
    "    return value\n",
    "jeopardy[\"high_value\"] = jeopardy.apply(determine_value,axis = 1)\n",
    "print(jeopardy.columns)\n",
    "print(jeopardy.head())\n",
    "print(jeopardy[\"high_value\"].head(40))"
   ]
  },
  {
   "cell_type": "code",
   "execution_count": 28,
   "metadata": {
    "collapsed": false
   },
   "outputs": [
    {
     "name": "stdout",
     "output_type": "stream",
     "text": [
      "[(0, 1), (0, 1), (0, 1), (1, 0), (0, 1)]\n"
     ]
    }
   ],
   "source": [
    "def count_usage(word):\n",
    "    low_count = 0\n",
    "    high_count = 0\n",
    "    for i,row in jeopardy.iterrows():\n",
    "        split_question = row[\"clean_question\"].split(\" \")\n",
    "        if word in split_question:\n",
    "            if row[\"high_value\"] == 1:\n",
    "                high_count += 1\n",
    "            else:\n",
    "                low_count += 1\n",
    "    return(high_count,low_count)\n",
    "\n",
    "observed_expected = []\n",
    "terms_used = list(terms_used)\n",
    "comparison_terms = terms_used[:5]\n",
    "#print(comparison_terms)\n",
    "for x in comparison_terms:\n",
    "    observed_expected.append(count_usage(x))\n",
    "    \n",
    "print(observed_expected)\n",
    "        \n",
    "    "
   ]
  },
  {
   "cell_type": "code",
   "execution_count": 26,
   "metadata": {
    "collapsed": false
   },
   "outputs": [
    {
     "name": "stdout",
     "output_type": "stream",
     "text": [
      "19999\n"
     ]
    }
   ],
   "source": [
    "#find the number of low value questions the word occurs in\n",
    "low_value_count = jeopardy[jeopardy[\"high_value\"] == 0].shape[0]\n",
    "\n",
    "#Number of high value questions the word occured in\n",
    "high_value_count = jeopardy[jeopardy[\"high_value\"]== 1].shape[0]\n",
    "print(jeopardy.shape[0])\n",
    "\n",
    "\n"
   ]
  },
  {
   "cell_type": "code",
   "execution_count": 32,
   "metadata": {
    "collapsed": false
   },
   "outputs": [
    {
     "data": {
      "text/plain": [
       "[Power_divergenceResult(statistic=0.33087109868902648, pvalue=0.56514660326737798),\n",
       " Power_divergenceResult(statistic=0.33087109868902648, pvalue=0.56514660326737798),\n",
       " Power_divergenceResult(statistic=0.33087109868902648, pvalue=0.56514660326737798),\n",
       " Power_divergenceResult(statistic=3.022325020112631, pvalue=0.08212564786568953),\n",
       " Power_divergenceResult(statistic=0.33087109868902648, pvalue=0.56514660326737798)]"
      ]
     },
     "execution_count": 32,
     "metadata": {},
     "output_type": "execute_result"
    }
   ],
   "source": [
    "from scipy.stats import chisquare\n",
    "chi_squared = []\n",
    "for word_occurences in observed_expected:\n",
    "    total_occurences = sum(word_occurences)\n",
    "#percentage of questions the word occurs in     \n",
    "    total_proportion = total_occurences/jeopardy.shape[0]\n",
    "# expected term count for low value rows\n",
    "    low_value_expected = total_proportion * low_value_count\n",
    "# expected term count for high value rows \n",
    "    high_value_expected = total_proportion * high_value_count\n",
    "    observed = np.array([word_occurences[0],word_occurences[1]])\n",
    "    expected = np.array([high_value_expected,low_value_expected])\n",
    "    chi_squared.append(chisquare(observed,expected))\n",
    "    \n",
    "chi_squared\n",
    "    \n",
    "    \n"
   ]
  },
  {
   "cell_type": "markdown",
   "metadata": {
    "collapsed": true
   },
   "source": [
    "Since p-value > .05 in this case,the results are not statistically significant.\n",
    "The alternative hyposthesis is not accepted which means that the observed and expected values are from the same population"
   ]
  },
  {
   "cell_type": "code",
   "execution_count": null,
   "metadata": {
    "collapsed": true
   },
   "outputs": [],
   "source": []
  }
 ],
 "metadata": {
  "kernelspec": {
   "display_name": "Python 3",
   "language": "python",
   "name": "python3"
  },
  "language_info": {
   "codemirror_mode": {
    "name": "ipython",
    "version": 3
   },
   "file_extension": ".py",
   "mimetype": "text/x-python",
   "name": "python",
   "nbconvert_exporter": "python",
   "pygments_lexer": "ipython3",
   "version": "3.4.3"
  }
 },
 "nbformat": 4,
 "nbformat_minor": 0
}
